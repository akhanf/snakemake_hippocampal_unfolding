{
 "cells": [
  {
   "cell_type": "code",
   "execution_count": 1,
   "metadata": {},
   "outputs": [],
   "source": [
    "import os\n",
    "import pandas as pd\n",
    "\n",
    "import numpy as np\n",
    "import matplotlib.pyplot as plt\n",
    "import seaborn as sns"
   ]
  },
  {
   "cell_type": "code",
   "execution_count": 3,
   "metadata": {},
   "outputs": [
    {
     "name": "stdout",
     "output_type": "stream",
     "text": [
      "100610_ap.nii          \u001b[0m\u001b[38;5;13m100610_io_viridis.gif\u001b[0m   \u001b[38;5;13m100610_thick_unfold.png\u001b[0m\n",
      "\u001b[38;5;13m100610_ap_viridis.gif\u001b[0m  100610_pd.nii           100610_unfold_data.pkl\n",
      "\u001b[38;5;13m100610_GI_unfold.png\u001b[0m   \u001b[38;5;13m100610_pd_viridis.gif\u001b[0m   100610_unfolded.npz\n",
      "100610_io.nii          \u001b[38;5;13m100610_qmap_unfold.png\u001b[0m\n"
     ]
    }
   ],
   "source": [
    "ls ../output"
   ]
  },
  {
   "cell_type": "code",
   "execution_count": 2,
   "metadata": {},
   "outputs": [],
   "source": [
    "test = np.load('../output/100610_unfolded.npz')\n"
   ]
  },
  {
   "cell_type": "code",
   "execution_count": 3,
   "metadata": {},
   "outputs": [
    {
     "data": {
      "text/plain": [
       "{'streamlengths_img_nointer': array([[1.32000005, 1.32000005, 0.75000003, ..., 0.81000003, 0.81000003,\n",
       "         0.81000003],\n",
       "        [1.32000005, 0.72000003, 1.14000005, ..., 0.81000003, 0.81000003,\n",
       "         0.81000003],\n",
       "        [1.32000005, 0.84000003, 1.32000005, ..., 0.81000003, 0.81000003,\n",
       "         0.81000003],\n",
       "        ...,\n",
       "        [       nan,        nan,        nan, ..., 1.62000006, 1.50000006,\n",
       "         1.32000005],\n",
       "        [       nan,        nan,        nan, ..., 3.12000012, 1.32000005,\n",
       "         1.32000005],\n",
       "        [       nan,        nan,        nan, ..., 1.32000005, 1.32000005,\n",
       "         1.32000005]]),\n",
       " 'streamlengths_img_interp': array([[1.32000005, 1.32000005, 0.75000003, ..., 0.81000003, 0.81000003,\n",
       "         0.81000003],\n",
       "        [1.32000005, 0.72000003, 1.14000005, ..., 0.81000003, 0.81000003,\n",
       "         0.81000003],\n",
       "        [1.32000005, 0.84000003, 1.32000005, ..., 0.81000003, 0.81000003,\n",
       "         0.81000003],\n",
       "        ...,\n",
       "        [       nan,        nan,        nan, ..., 1.62000006, 1.50000006,\n",
       "         1.32000005],\n",
       "        [       nan,        nan,        nan, ..., 3.12000012, 1.32000005,\n",
       "         1.32000005],\n",
       "        [       nan,        nan,        nan, ..., 1.32000005, 1.32000005,\n",
       "         1.32000005]]),\n",
       " 'allow_pickle': array(True),\n",
       " 'GI_img_nointer': array([[-6.38822383e-03,  3.48848518e+00,  9.21086678e-01, ...,\n",
       "          0.00000000e+00,  0.00000000e+00,  0.00000000e+00],\n",
       "        [ 1.52876367e+00,  7.32295956e-01,  5.88554988e-01, ...,\n",
       "          0.00000000e+00,  0.00000000e+00,  0.00000000e+00],\n",
       "        [ 7.91738922e-01,  9.34068756e-01,  3.31058641e-01, ...,\n",
       "          0.00000000e+00,  0.00000000e+00,  0.00000000e+00],\n",
       "        ...,\n",
       "        [ 4.99528751e+00,  4.99528751e+00,  4.97137052e+00, ...,\n",
       "          2.95221199e+00,  2.91787081e+00,  3.25673335e+00],\n",
       "        [-2.86142528e-02, -2.86142528e-02, -2.84772503e-02, ...,\n",
       "          1.63707185e+00,  3.20629203e+00,  8.05378822e+01],\n",
       "        [ 0.00000000e+00,  0.00000000e+00,  0.00000000e+00, ...,\n",
       "          1.26151670e+01,  3.99823304e+01, -1.95780147e-01]]),\n",
       " 'GI_img_interp': array([[-6.38822383e-03,  3.48848518e+00,  9.21086678e-01, ...,\n",
       "          0.00000000e+00,  0.00000000e+00,  0.00000000e+00],\n",
       "        [ 1.52876367e+00,  7.32295956e-01,  5.88554988e-01, ...,\n",
       "          0.00000000e+00,  0.00000000e+00,  0.00000000e+00],\n",
       "        [ 7.91738922e-01,  9.34068756e-01,  3.31058641e-01, ...,\n",
       "          0.00000000e+00,  0.00000000e+00,  0.00000000e+00],\n",
       "        ...,\n",
       "        [ 4.99528751e+00,  4.99528751e+00,  4.97137052e+00, ...,\n",
       "          2.95221199e+00,  2.91787081e+00,  3.25673335e+00],\n",
       "        [-2.86142528e-02, -2.86142528e-02, -2.84772503e-02, ...,\n",
       "          1.63707185e+00,  3.20629203e+00,  8.05378822e+01],\n",
       "        [ 0.00000000e+00,  0.00000000e+00,  0.00000000e+00, ...,\n",
       "          1.26151670e+01,  3.99823304e+01, -1.95780147e-01]]),\n",
       " 'qMap_img_nointer': array([[339.27898496, 339.27898496, 340.86935469, ..., 346.40448036,\n",
       "         346.40448036, 346.40448036],\n",
       "        [339.27898496, 316.1698744 , 326.52920349, ..., 346.40448036,\n",
       "         346.40448036, 346.40448036],\n",
       "        [339.27898496, 324.03477952, 339.27898496, ..., 346.40448036,\n",
       "         346.40448036, 346.40448036],\n",
       "        ...,\n",
       "        [355.9443997 , 355.9443997 , 355.9443997 , ..., 422.25337259,\n",
       "         394.80258099, 420.80593364],\n",
       "        [355.9443997 , 355.9443997 , 355.9443997 , ..., 399.4046177 ,\n",
       "         420.80593364, 420.80593364],\n",
       "        [355.9443997 , 355.9443997 , 355.9443997 , ..., 420.80593364,\n",
       "         420.80593364, 420.80593364]]),\n",
       " 'qMap_img_interp': array([[339.27898496, 339.27898496, 340.86935469, ..., 346.40448036,\n",
       "         346.40448036, 346.40448036],\n",
       "        [339.27898496, 316.1698744 , 326.52920349, ..., 346.40448036,\n",
       "         346.40448036, 346.40448036],\n",
       "        [339.27898496, 324.03477952, 339.27898496, ..., 346.40448036,\n",
       "         346.40448036, 346.40448036],\n",
       "        ...,\n",
       "        [355.9443997 , 355.9443997 , 355.9443997 , ..., 422.25337259,\n",
       "         394.80258099, 420.80593364],\n",
       "        [355.9443997 , 355.9443997 , 355.9443997 , ..., 399.4046177 ,\n",
       "         420.80593364, 420.80593364],\n",
       "        [355.9443997 , 355.9443997 , 355.9443997 , ..., 420.80593364,\n",
       "         420.80593364, 420.80593364]])}"
      ]
     },
     "execution_count": 3,
     "metadata": {},
     "output_type": "execute_result"
    }
   ],
   "source": [
    "dict(test)"
   ]
  },
  {
   "cell_type": "code",
   "execution_count": 10,
   "metadata": {},
   "outputs": [],
   "source": [
    "data = pd.DataFrame(unfold)"
   ]
  },
  {
   "cell_type": "code",
   "execution_count": 21,
   "metadata": {},
   "outputs": [],
   "source": [
    "np_test = {'adfd':234231431,'kuhlreh':342143}\n",
    "np_test2 = {'435245':42314,'adfdsf':525452}"
   ]
  },
  {
   "cell_type": "code",
   "execution_count": 22,
   "metadata": {},
   "outputs": [],
   "source": [
    "np_test.update(np_test2)"
   ]
  },
  {
   "cell_type": "code",
   "execution_count": 25,
   "metadata": {},
   "outputs": [
    {
     "data": {
      "text/plain": [
       "{'adfd': 234231431, 'kuhlreh': 342143, '435245': 42314, 'adfdsf': 525452}"
      ]
     },
     "execution_count": 25,
     "metadata": {},
     "output_type": "execute_result"
    }
   ],
   "source": [
    "np_test"
   ]
  },
  {
   "cell_type": "code",
   "execution_count": 29,
   "metadata": {},
   "outputs": [
    {
     "data": {
      "text/plain": [
       "['arr_0']"
      ]
     },
     "execution_count": 29,
     "metadata": {},
     "output_type": "execute_result"
    }
   ],
   "source": [
    "test.files"
   ]
  },
  {
   "cell_type": "code",
   "execution_count": 16,
   "metadata": {},
   "outputs": [],
   "source": [
    "x = pd.read_pickle('../output/100610_unfold_data.pkl')"
   ]
  },
  {
   "cell_type": "code",
   "execution_count": 17,
   "metadata": {},
   "outputs": [
    {
     "data": {
      "text/html": [
       "<div>\n",
       "<style scoped>\n",
       "    .dataframe tbody tr th:only-of-type {\n",
       "        vertical-align: middle;\n",
       "    }\n",
       "\n",
       "    .dataframe tbody tr th {\n",
       "        vertical-align: top;\n",
       "    }\n",
       "\n",
       "    .dataframe thead th {\n",
       "        text-align: right;\n",
       "    }\n",
       "</style>\n",
       "<table border=\"1\" class=\"dataframe\">\n",
       "  <thead>\n",
       "    <tr style=\"text-align: right;\">\n",
       "      <th></th>\n",
       "      <th>subject</th>\n",
       "      <th>labels</th>\n",
       "      <th>x_label</th>\n",
       "      <th>streamlengths</th>\n",
       "      <th>GI</th>\n",
       "      <th>qMap</th>\n",
       "    </tr>\n",
       "  </thead>\n",
       "  <tbody>\n",
       "    <tr>\n",
       "      <th>0</th>\n",
       "      <td>100610</td>\n",
       "      <td>1</td>\n",
       "      <td>0</td>\n",
       "      <td>1.32</td>\n",
       "      <td>-0.006388</td>\n",
       "      <td>339.278985</td>\n",
       "    </tr>\n",
       "    <tr>\n",
       "      <th>1</th>\n",
       "      <td>100610</td>\n",
       "      <td>1</td>\n",
       "      <td>0</td>\n",
       "      <td>1.32</td>\n",
       "      <td>1.528764</td>\n",
       "      <td>339.278985</td>\n",
       "    </tr>\n",
       "    <tr>\n",
       "      <th>2</th>\n",
       "      <td>100610</td>\n",
       "      <td>1</td>\n",
       "      <td>0</td>\n",
       "      <td>1.32</td>\n",
       "      <td>0.791739</td>\n",
       "      <td>339.278985</td>\n",
       "    </tr>\n",
       "    <tr>\n",
       "      <th>3</th>\n",
       "      <td>100610</td>\n",
       "      <td>1</td>\n",
       "      <td>0</td>\n",
       "      <td>1.32</td>\n",
       "      <td>0.312757</td>\n",
       "      <td>339.278985</td>\n",
       "    </tr>\n",
       "    <tr>\n",
       "      <th>4</th>\n",
       "      <td>100610</td>\n",
       "      <td>1</td>\n",
       "      <td>0</td>\n",
       "      <td>1.32</td>\n",
       "      <td>5.310064</td>\n",
       "      <td>339.278985</td>\n",
       "    </tr>\n",
       "    <tr>\n",
       "      <th>...</th>\n",
       "      <td>...</td>\n",
       "      <td>...</td>\n",
       "      <td>...</td>\n",
       "      <td>...</td>\n",
       "      <td>...</td>\n",
       "      <td>...</td>\n",
       "    </tr>\n",
       "    <tr>\n",
       "      <th>32763</th>\n",
       "      <td>100610</td>\n",
       "      <td>5</td>\n",
       "      <td>255</td>\n",
       "      <td>1.17</td>\n",
       "      <td>1.927496</td>\n",
       "      <td>384.419113</td>\n",
       "    </tr>\n",
       "    <tr>\n",
       "      <th>32764</th>\n",
       "      <td>100610</td>\n",
       "      <td>5</td>\n",
       "      <td>255</td>\n",
       "      <td>1.08</td>\n",
       "      <td>1.844961</td>\n",
       "      <td>368.102919</td>\n",
       "    </tr>\n",
       "    <tr>\n",
       "      <th>32765</th>\n",
       "      <td>100610</td>\n",
       "      <td>5</td>\n",
       "      <td>255</td>\n",
       "      <td>1.32</td>\n",
       "      <td>3.256733</td>\n",
       "      <td>420.805934</td>\n",
       "    </tr>\n",
       "    <tr>\n",
       "      <th>32766</th>\n",
       "      <td>100610</td>\n",
       "      <td>5</td>\n",
       "      <td>255</td>\n",
       "      <td>1.32</td>\n",
       "      <td>80.537882</td>\n",
       "      <td>420.805934</td>\n",
       "    </tr>\n",
       "    <tr>\n",
       "      <th>32767</th>\n",
       "      <td>100610</td>\n",
       "      <td>5</td>\n",
       "      <td>255</td>\n",
       "      <td>1.32</td>\n",
       "      <td>-0.195780</td>\n",
       "      <td>420.805934</td>\n",
       "    </tr>\n",
       "  </tbody>\n",
       "</table>\n",
       "<p>32768 rows × 6 columns</p>\n",
       "</div>"
      ],
      "text/plain": [
       "      subject  labels  x_label  streamlengths         GI        qMap\n",
       "0      100610       1        0           1.32  -0.006388  339.278985\n",
       "1      100610       1        0           1.32   1.528764  339.278985\n",
       "2      100610       1        0           1.32   0.791739  339.278985\n",
       "3      100610       1        0           1.32   0.312757  339.278985\n",
       "4      100610       1        0           1.32   5.310064  339.278985\n",
       "...       ...     ...      ...            ...        ...         ...\n",
       "32763  100610       5      255           1.17   1.927496  384.419113\n",
       "32764  100610       5      255           1.08   1.844961  368.102919\n",
       "32765  100610       5      255           1.32   3.256733  420.805934\n",
       "32766  100610       5      255           1.32  80.537882  420.805934\n",
       "32767  100610       5      255           1.32  -0.195780  420.805934\n",
       "\n",
       "[32768 rows x 6 columns]"
      ]
     },
     "execution_count": 17,
     "metadata": {},
     "output_type": "execute_result"
    }
   ],
   "source": [
    "x"
   ]
  },
  {
   "cell_type": "code",
   "execution_count": null,
   "metadata": {},
   "outputs": [],
   "source": []
  }
 ],
 "metadata": {
  "kernelspec": {
   "display_name": "Python 3",
   "language": "python",
   "name": "python3"
  },
  "language_info": {
   "codemirror_mode": {
    "name": "ipython",
    "version": 3
   },
   "file_extension": ".py",
   "mimetype": "text/x-python",
   "name": "python",
   "nbconvert_exporter": "python",
   "pygments_lexer": "ipython3",
   "version": "3.7.4"
  }
 },
 "nbformat": 4,
 "nbformat_minor": 4
}
