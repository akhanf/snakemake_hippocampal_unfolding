{
 "cells": [
  {
   "cell_type": "code",
   "execution_count": 1,
   "metadata": {},
   "outputs": [],
   "source": [
    "import os\n",
    "import pandas as pd\n",
    "\n",
    "import numpy as np\n",
    "import matplotlib.pyplot as plt\n",
    "import seaborn as sns"
   ]
  },
  {
   "cell_type": "code",
   "execution_count": 2,
   "metadata": {},
   "outputs": [
    {
     "name": "stdout",
     "output_type": "stream",
     "text": [
      "100610_ap.nii          \u001b[0m\u001b[01;35m100610_qmap_unfold.png\u001b[0m   105923_pd.nii\n",
      "\u001b[01;35m100610_ap.png\u001b[0m          \u001b[01;35m100610_thick_unfold.png\u001b[0m  \u001b[01;35m105923_pd_viridis.gif\u001b[0m\n",
      "\u001b[01;35m100610_ap_viridis.gif\u001b[0m  100610_unfold_data.pkl   \u001b[01;35m105923_qmap_unfold.png\u001b[0m\n",
      "\u001b[01;35m100610_boxplot.png\u001b[0m     100610_unfolded.npz      \u001b[01;35m105923_thick_unfold.png\u001b[0m\n",
      "\u001b[01;35m100610_GI_unfold.png\u001b[0m   105923_ap.nii            105923_unfold_data.pkl\n",
      "100610_io.nii          \u001b[01;35m105923_ap_viridis.gif\u001b[0m    105923_unfolded.npz\n",
      "\u001b[01;35m100610_io_viridis.gif\u001b[0m  \u001b[01;35m105923_GI_unfold.png\u001b[0m     unfold_data.pkl\n",
      "100610_pd.nii          105923_io.nii\n",
      "\u001b[01;35m100610_pd_viridis.gif\u001b[0m  \u001b[01;35m105923_io_viridis.gif\u001b[0m\n"
     ]
    }
   ],
   "source": [
    "ls ../output"
   ]
  },
  {
   "cell_type": "code",
   "execution_count": 2,
   "metadata": {},
   "outputs": [],
   "source": [
    "test = pd.read_pickle('../output/unfold_data.pkl')\n"
   ]
  },
  {
   "cell_type": "code",
   "execution_count": 6,
   "metadata": {},
   "outputs": [],
   "source": [
    "x = np.load('../output/100610_unfolded.npz')"
   ]
  },
  {
   "cell_type": "code",
   "execution_count": 13,
   "metadata": {},
   "outputs": [
    {
     "data": {
      "text/plain": [
       "True"
      ]
     },
     "execution_count": 13,
     "metadata": {},
     "output_type": "execute_result"
    }
   ],
   "source": [
    "np.shape(x[x.files[0]]) == (128, 256)"
   ]
  },
  {
   "cell_type": "code",
   "execution_count": 43,
   "metadata": {},
   "outputs": [],
   "source": [
    "test = x[x.files[3]]"
   ]
  },
  {
   "cell_type": "code",
   "execution_count": 44,
   "metadata": {},
   "outputs": [],
   "source": [
    "test_mean, test_std = np.mean(test), np.std(test)\n",
    "upper_bound, lower_bound = test_mean+test_std, test_mean-test_std"
   ]
  },
  {
   "cell_type": "code",
   "execution_count": 48,
   "metadata": {},
   "outputs": [],
   "source": [
    "#np.fromiter((np.nan for x in test if np.logical_or(x>upper_bound,x<lower_bound)),dtype=test.dtype)\n",
    "\n",
    "test[np.logical_or(test>upper_bound,test<lower_bound)] = np.nan"
   ]
  },
  {
   "cell_type": "code",
   "execution_count": 49,
   "metadata": {},
   "outputs": [
    {
     "data": {
      "text/plain": [
       "array([[-0.00638822,         nan,  0.92108668, ...,  0.        ,\n",
       "         0.        ,  0.        ],\n",
       "       [ 1.52876367,  0.73229596,  0.58855499, ...,  0.        ,\n",
       "         0.        ,  0.        ],\n",
       "       [ 0.79173892,  0.93406876,  0.33105864, ...,  0.        ,\n",
       "         0.        ,  0.        ],\n",
       "       ...,\n",
       "       [        nan,         nan,         nan, ...,         nan,\n",
       "         2.91787081,         nan],\n",
       "       [-0.02861425, -0.02861425, -0.02847725, ...,  1.63707185,\n",
       "                nan,         nan],\n",
       "       [ 0.        ,  0.        ,  0.        , ...,         nan,\n",
       "                nan, -0.19578015]])"
      ]
     },
     "execution_count": 49,
     "metadata": {},
     "output_type": "execute_result"
    }
   ],
   "source": [
    "test"
   ]
  },
  {
   "cell_type": "code",
   "execution_count": 10,
   "metadata": {},
   "outputs": [],
   "source": [
    "data = pd.DataFrame(unfold)"
   ]
  },
  {
   "cell_type": "code",
   "execution_count": 21,
   "metadata": {},
   "outputs": [],
   "source": [
    "np_test = {'adfd':234231431,'kuhlreh':342143}\n",
    "np_test2 = {'435245':42314,'adfdsf':525452}"
   ]
  },
  {
   "cell_type": "code",
   "execution_count": 22,
   "metadata": {},
   "outputs": [],
   "source": [
    "np_test.update(np_test2)"
   ]
  },
  {
   "cell_type": "code",
   "execution_count": 25,
   "metadata": {},
   "outputs": [
    {
     "data": {
      "text/plain": [
       "{'adfd': 234231431, 'kuhlreh': 342143, '435245': 42314, 'adfdsf': 525452}"
      ]
     },
     "execution_count": 25,
     "metadata": {},
     "output_type": "execute_result"
    }
   ],
   "source": [
    "np_test"
   ]
  },
  {
   "cell_type": "code",
   "execution_count": 29,
   "metadata": {},
   "outputs": [
    {
     "data": {
      "text/plain": [
       "['arr_0']"
      ]
     },
     "execution_count": 29,
     "metadata": {},
     "output_type": "execute_result"
    }
   ],
   "source": [
    "test.files"
   ]
  },
  {
   "cell_type": "code",
   "execution_count": 27,
   "metadata": {},
   "outputs": [
    {
     "data": {
      "text/html": [
       "<div>\n",
       "<style scoped>\n",
       "    .dataframe tbody tr th:only-of-type {\n",
       "        vertical-align: middle;\n",
       "    }\n",
       "\n",
       "    .dataframe tbody tr th {\n",
       "        vertical-align: top;\n",
       "    }\n",
       "\n",
       "    .dataframe thead th {\n",
       "        text-align: right;\n",
       "    }\n",
       "</style>\n",
       "<table border=\"1\" class=\"dataframe\">\n",
       "  <thead>\n",
       "    <tr style=\"text-align: right;\">\n",
       "      <th></th>\n",
       "      <th>subject</th>\n",
       "      <th>labels</th>\n",
       "      <th>x_label</th>\n",
       "      <th>streamlengths</th>\n",
       "      <th>GI</th>\n",
       "      <th>qMap</th>\n",
       "    </tr>\n",
       "  </thead>\n",
       "  <tbody>\n",
       "    <tr>\n",
       "      <th>0</th>\n",
       "      <td>100610</td>\n",
       "      <td>1</td>\n",
       "      <td>0</td>\n",
       "      <td>1.32</td>\n",
       "      <td>-0.006388</td>\n",
       "      <td>339.278985</td>\n",
       "    </tr>\n",
       "    <tr>\n",
       "      <th>1</th>\n",
       "      <td>100610</td>\n",
       "      <td>1</td>\n",
       "      <td>0</td>\n",
       "      <td>1.32</td>\n",
       "      <td>1.528764</td>\n",
       "      <td>339.278985</td>\n",
       "    </tr>\n",
       "    <tr>\n",
       "      <th>2</th>\n",
       "      <td>100610</td>\n",
       "      <td>1</td>\n",
       "      <td>0</td>\n",
       "      <td>1.32</td>\n",
       "      <td>0.791739</td>\n",
       "      <td>339.278985</td>\n",
       "    </tr>\n",
       "    <tr>\n",
       "      <th>3</th>\n",
       "      <td>100610</td>\n",
       "      <td>1</td>\n",
       "      <td>0</td>\n",
       "      <td>1.32</td>\n",
       "      <td>0.312757</td>\n",
       "      <td>339.278985</td>\n",
       "    </tr>\n",
       "    <tr>\n",
       "      <th>4</th>\n",
       "      <td>100610</td>\n",
       "      <td>1</td>\n",
       "      <td>0</td>\n",
       "      <td>1.32</td>\n",
       "      <td>5.310064</td>\n",
       "      <td>339.278985</td>\n",
       "    </tr>\n",
       "    <tr>\n",
       "      <th>...</th>\n",
       "      <td>...</td>\n",
       "      <td>...</td>\n",
       "      <td>...</td>\n",
       "      <td>...</td>\n",
       "      <td>...</td>\n",
       "      <td>...</td>\n",
       "    </tr>\n",
       "    <tr>\n",
       "      <th>32763</th>\n",
       "      <td>105923</td>\n",
       "      <td>5</td>\n",
       "      <td>255</td>\n",
       "      <td>NaN</td>\n",
       "      <td>1.368044</td>\n",
       "      <td>454.190306</td>\n",
       "    </tr>\n",
       "    <tr>\n",
       "      <th>32764</th>\n",
       "      <td>105923</td>\n",
       "      <td>5</td>\n",
       "      <td>255</td>\n",
       "      <td>NaN</td>\n",
       "      <td>3.854680</td>\n",
       "      <td>454.190306</td>\n",
       "    </tr>\n",
       "    <tr>\n",
       "      <th>32765</th>\n",
       "      <td>105923</td>\n",
       "      <td>5</td>\n",
       "      <td>255</td>\n",
       "      <td>1.35</td>\n",
       "      <td>132.698424</td>\n",
       "      <td>414.548573</td>\n",
       "    </tr>\n",
       "    <tr>\n",
       "      <th>32766</th>\n",
       "      <td>105923</td>\n",
       "      <td>5</td>\n",
       "      <td>255</td>\n",
       "      <td>1.35</td>\n",
       "      <td>-0.760230</td>\n",
       "      <td>414.548573</td>\n",
       "    </tr>\n",
       "    <tr>\n",
       "      <th>32767</th>\n",
       "      <td>105923</td>\n",
       "      <td>5</td>\n",
       "      <td>255</td>\n",
       "      <td>1.35</td>\n",
       "      <td>0.000000</td>\n",
       "      <td>414.548573</td>\n",
       "    </tr>\n",
       "  </tbody>\n",
       "</table>\n",
       "<p>65536 rows × 6 columns</p>\n",
       "</div>"
      ],
      "text/plain": [
       "      subject  labels  x_label  streamlengths          GI        qMap\n",
       "0      100610       1        0           1.32   -0.006388  339.278985\n",
       "1      100610       1        0           1.32    1.528764  339.278985\n",
       "2      100610       1        0           1.32    0.791739  339.278985\n",
       "3      100610       1        0           1.32    0.312757  339.278985\n",
       "4      100610       1        0           1.32    5.310064  339.278985\n",
       "...       ...     ...      ...            ...         ...         ...\n",
       "32763  105923       5      255            NaN    1.368044  454.190306\n",
       "32764  105923       5      255            NaN    3.854680  454.190306\n",
       "32765  105923       5      255           1.35  132.698424  414.548573\n",
       "32766  105923       5      255           1.35   -0.760230  414.548573\n",
       "32767  105923       5      255           1.35    0.000000  414.548573\n",
       "\n",
       "[65536 rows x 6 columns]"
      ]
     },
     "execution_count": 27,
     "metadata": {},
     "output_type": "execute_result"
    }
   ],
   "source": [
    "x = pd.read_pickle('../output/unfold_data.pkl')\n"
   ]
  },
  {
   "cell_type": "code",
   "execution_count": 34,
   "metadata": {},
   "outputs": [
    {
     "data": {
      "text/plain": [
       "6.688870928615531"
      ]
     },
     "execution_count": 34,
     "metadata": {},
     "output_type": "execute_result"
    }
   ],
   "source": [
    "mean,std = np.mean(x.GI),np.std(x.GI)\n",
    "mean+3*std"
   ]
  },
  {
   "cell_type": "code",
   "execution_count": 22,
   "metadata": {},
   "outputs": [],
   "source": [
    "x[x['labels'] ==1]\n",
    "data = x"
   ]
  },
  {
   "cell_type": "code",
   "execution_count": null,
   "metadata": {},
   "outputs": [],
   "source": [
    "y_fields = [key for key in data.keys() if key not in ['subject','labels','x_label']]\n",
    "\n",
    "def boxplot_subfields(data, feature, subject):\n",
    "    plt.figure()\n",
    "    sns.boxplot(x='labels',y=feature, data =data)\n",
    "    plt.title(' '.join([subject,feature]))\n",
    "#     plt.savefig('_'.join([subject,feature,'boxplot.png']),dpi=600)\n",
    "    \n",
    "def boxplot_group_subfields(data,feature):\n",
    "    plt.figure(figsize=(10,6))\n",
    "    for k in range(1,6):\n",
    "        plt.subplot(1,5,k)\n",
    "        sns.boxplot(x='subject',y=feature,data=data[data['labels'] == k])\n",
    "        plt.title(' '.join([str(k),feature]))\n",
    "    plt.tight_layout()\n",
    "    #plt.savefig('_'.join([feature,'group.png']),dpi=600)\n",
    "        \n",
    "def lineplot_AP(data, feature, subject):\n",
    "    plt.figure()\n",
    "    sns.lineplot(x='x_label',y=feature,hue='labels',data=data)\n",
    "    #plt.savefig('_'.join([subject,feature,'lineplot.png']),dpi=600)\n",
    "    \n",
    "def lineplot_group_AP(data,feature):\n",
    "    subjects = np.unique(data.subject)\n",
    "    plt.figure(figsize=(20,7))\n",
    "    for k in range(1,6):\n",
    "        plt.subplot(1,5,k)\n",
    "        sns.lineplot(x='x_label',y=feature,hue='labels',data=data[data['labels'] == k])\n",
    "        plt.title(' '.join([str(k),feature]))\n",
    "    plt.tight_layout()\n",
    "#     plt.savefig('_'.join([feature,'group.png']),dpi=600)\n",
    "    \n",
    "    \n",
    "# for feature in y_fields:\n",
    "feature = 'streamlengths'\n",
    "for sub in np.unique(x.subject):\n",
    "    boxplot_subfields(x,feature,sub)\n",
    "    lineplot_AP(data,feature,sub)\n",
    "\n",
    "boxplot_group_subfields(x,feature)\n",
    "lineplot_group_AP(x,feature)"
   ]
  },
  {
   "cell_type": "code",
   "execution_count": 11,
   "metadata": {},
   "outputs": [
    {
     "data": {
      "text/plain": [
       "['streamlengths', 'GI', 'qMap']"
      ]
     },
     "execution_count": 11,
     "metadata": {},
     "output_type": "execute_result"
    }
   ],
   "source": [
    "[key for key in ['subject','labels','x_label','streamlengths','GI','qMap'] if key not in ['subject','labels','x_label']]"
   ]
  }
 ],
 "metadata": {
  "kernelspec": {
   "display_name": "Python 3",
   "language": "python",
   "name": "python3"
  },
  "language_info": {
   "codemirror_mode": {
    "name": "ipython",
    "version": 3
   },
   "file_extension": ".py",
   "mimetype": "text/x-python",
   "name": "python",
   "nbconvert_exporter": "python",
   "pygments_lexer": "ipython3",
   "version": "3.7.6"
  }
 },
 "nbformat": 4,
 "nbformat_minor": 4
}
